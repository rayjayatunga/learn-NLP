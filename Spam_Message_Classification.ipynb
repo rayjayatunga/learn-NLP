{
  "nbformat": 4,
  "nbformat_minor": 0,
  "metadata": {
    "colab": {
      "provenance": [],
      "toc_visible": true
    },
    "kernelspec": {
      "name": "python3",
      "display_name": "Python 3"
    },
    "language_info": {
      "name": "python"
    }
  },
  "cells": [
    {
      "cell_type": "markdown",
      "source": [
        "# Spam Message Classification #\n"
      ],
      "metadata": {
        "id": "UA0EKhOly_Y6"
      }
    },
    {
      "cell_type": "markdown",
      "source": [
        "## 1) Data Preprocessing"
      ],
      "metadata": {
        "id": "TtPDCvR7zIaM"
      }
    },
    {
      "cell_type": "code",
      "source": [],
      "metadata": {
        "id": "LPE5bpQlzHdB"
      },
      "execution_count": null,
      "outputs": []
    }
  ]
}